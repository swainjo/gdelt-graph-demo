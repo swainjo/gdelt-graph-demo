{
  "cells": [
    {
      "cell_type": "markdown",
      "metadata": {},
      "source": [
        "# GDELT Demo Notebook\n",
        "\n",
        "This notebook demonstrates working with GDELT (Global Database of Events, Language, and Tone) data for graph analysis.\n"
      ]
    },
    {
      "cell_type": "code",
      "execution_count": 26,
      "metadata": {},
      "outputs": [
        {
          "name": "stdout",
          "output_type": "stream",
          "text": [
            "Configuration loaded:\n",
            "  GCP Project: graph-demo-471710\n",
            "  BigQuery Dataset: gdelt\n",
            "  Full Dataset ID: graph-demo-471710.gdelt\n"
          ]
        }
      ],
      "source": [
        "# Configuration variables\n",
        "GCP_PROJECT_ID = \"graph-demo-471710\"  # Replace with your actual GCP project ID\n",
        "BIGQUERY_DATASET = \"gdelt\"  # Replace with your actual BigQuery dataset name\n",
        "\n",
        "# Derived variables\n",
        "BIGQUERY_DATASET_ID = f\"{GCP_PROJECT_ID}.{BIGQUERY_DATASET}\"\n",
        "\n",
        "print(f\"Configuration loaded:\")\n",
        "print(f\"  GCP Project: {GCP_PROJECT_ID}\")\n",
        "print(f\"  BigQuery Dataset: {BIGQUERY_DATASET}\")\n",
        "print(f\"  Full Dataset ID: {BIGQUERY_DATASET_ID}\")\n"
      ]
    },
    {
      "cell_type": "code",
      "execution_count": 27,
      "metadata": {},
      "outputs": [
        {
          "name": "stdout",
          "output_type": "stream",
          "text": [
            "🔐 Setting up GCP Authentication...\n",
            "🔍 Checking for existing credentials...\n"
          ]
        },
        {
          "name": "stderr",
          "output_type": "stream",
          "text": [
            "/Users/johnswain/Development/gdelt-graph/venv/lib/python3.13/site-packages/google/auth/_default.py:76: UserWarning: Your application has authenticated using end user credentials from Google Cloud SDK without a quota project. You might receive a \"quota exceeded\" or \"API not enabled\" error. See the following page for troubleshooting: https://cloud.google.com/docs/authentication/adc-troubleshooting/user-creds. \n",
            "  warnings.warn(_CLOUD_SDK_CREDENTIALS_WARNING)\n"
          ]
        },
        {
          "name": "stdout",
          "output_type": "stream",
          "text": [
            "✅ Found existing credentials for project: graph-demo\n",
            "⚠️  Project mismatch: graph-demo vs graph-demo-471710\n",
            "🔄 Will re-authenticate with correct project...\n",
            "🗑️  Clearing old credentials...\n",
            "✅ Removed old application default credentials\n",
            "🎯 Setting gcloud project to: graph-demo-471710\n",
            "✅ Project set successfully\n",
            "🔄 Re-authenticating with application default credentials...\n",
            "   This will open a browser window for authentication...\n"
          ]
        },
        {
          "name": "stderr",
          "output_type": "stream",
          "text": [
            "Your browser has been opened to visit:\n",
            "\n",
            "    https://accounts.google.com/o/oauth2/auth?response_type=code&client_id=764086051850-6qr4p6gpi6hn506pt8ejuq83di341hur.apps.googleusercontent.com&redirect_uri=http%3A%2F%2Flocalhost%3A8085%2F&scope=openid+https%3A%2F%2Fwww.googleapis.com%2Fauth%2Fuserinfo.email+https%3A%2F%2Fwww.googleapis.com%2Fauth%2Fcloud-platform+https%3A%2F%2Fwww.googleapis.com%2Fauth%2Fsqlservice.login&state=4oQms9dSVKQvNG95uvSfnyfGBSxNkS&access_type=offline&code_challenge=oMXLu2Z3305ktTMGqeVJlHQ_18fZ3JMa-Uy2axu8wVk&code_challenge_method=S256\n",
            "\n",
            "\n",
            "Credentials saved to file: [/Users/johnswain/.config/gcloud/application_default_credentials.json]\n",
            "\n",
            "These credentials will be used by any library that requests Application Default Credentials (ADC).\n",
            "\n",
            "Quota project \"graph-demo-471710\" was added to ADC which can be used by Google client libraries for billing and quota. Note that some services may still bill the project owning the resource.\n"
          ]
        },
        {
          "name": "stdout",
          "output_type": "stream",
          "text": [
            "✅ Re-authentication successful\n",
            "💰 Setting quota project...\n",
            "✅ Quota project set successfully\n",
            "🧪 Verifying authentication...\n",
            "✅ Authentication successful - Project: graph-demo\n",
            "🌍 Set GOOGLE_CLOUD_PROJECT environment variable to: graph-demo-471710\n"
          ]
        }
      ],
      "source": [
        "# GCP Authentication Setup\n",
        "import subprocess\n",
        "import os\n",
        "import shutil\n",
        "from google.auth import default\n",
        "from google.auth.exceptions import DefaultCredentialsError\n",
        "\n",
        "def setup_gcp_authentication():\n",
        "    \"\"\"Complete GCP authentication setup with error handling\"\"\"\n",
        "    print(\"🔐 Setting up GCP Authentication...\")\n",
        "    \n",
        "    try:\n",
        "        # Step 1: Try to use existing credentials first\n",
        "        print(\"🔍 Checking for existing credentials...\")\n",
        "        try:\n",
        "            credentials, default_project = default()\n",
        "            print(f\"✅ Found existing credentials for project: {default_project}\")\n",
        "            \n",
        "            # If the project matches, we're good\n",
        "            if default_project == GCP_PROJECT_ID:\n",
        "                print(f\"🎯 Project matches target project: {GCP_PROJECT_ID}\")\n",
        "                os.environ['GOOGLE_CLOUD_PROJECT'] = GCP_PROJECT_ID\n",
        "                return credentials, GCP_PROJECT_ID\n",
        "            else:\n",
        "                print(f\"⚠️  Project mismatch: {default_project} vs {GCP_PROJECT_ID}\")\n",
        "                print(\"🔄 Will re-authenticate with correct project...\")\n",
        "        except DefaultCredentialsError:\n",
        "            print(\"❌ No existing credentials found\")\n",
        "            print(\"🔄 Will authenticate from scratch...\")\n",
        "        \n",
        "        # Step 2: Clear old credentials if needed\n",
        "        print(\"🗑️  Clearing old credentials...\")\n",
        "        adc_path = os.path.expanduser(\"~/.config/gcloud/application_default_credentials.json\")\n",
        "        if os.path.exists(adc_path):\n",
        "            os.remove(adc_path)\n",
        "            print(\"✅ Removed old application default credentials\")\n",
        "        \n",
        "        # Step 3: Set the correct project\n",
        "        print(f\"🎯 Setting gcloud project to: {GCP_PROJECT_ID}\")\n",
        "        result = subprocess.run(['gcloud', 'config', 'set', 'project', GCP_PROJECT_ID], \n",
        "                              capture_output=True, text=True, check=True)\n",
        "        print(\"✅ Project set successfully\")\n",
        "        \n",
        "        # Step 4: Re-authenticate\n",
        "        print(\"🔄 Re-authenticating with application default credentials...\")\n",
        "        print(\"   This will open a browser window for authentication...\")\n",
        "        \n",
        "        result = subprocess.run(['gcloud', 'auth', 'application-default', 'login'], \n",
        "                              check=True)\n",
        "        print(\"✅ Re-authentication successful\")\n",
        "        \n",
        "        # Step 5: Set quota project to avoid warnings\n",
        "        print(\"💰 Setting quota project...\")\n",
        "        try:\n",
        "            subprocess.run(['gcloud', 'auth', 'application-default', 'set-quota-project', GCP_PROJECT_ID], \n",
        "                          capture_output=True, text=True, check=True)\n",
        "            print(\"✅ Quota project set successfully\")\n",
        "        except:\n",
        "            print(\"⚠️  Could not set quota project (this is usually fine)\")\n",
        "        \n",
        "        # Step 6: Verify the setup\n",
        "        print(\"🧪 Verifying authentication...\")\n",
        "        credentials, project = default()\n",
        "        print(f\"✅ Authentication successful - Project: {project}\")\n",
        "        \n",
        "        # Set environment variable\n",
        "        os.environ['GOOGLE_CLOUD_PROJECT'] = GCP_PROJECT_ID\n",
        "        print(f\"🌍 Set GOOGLE_CLOUD_PROJECT environment variable to: {GCP_PROJECT_ID}\")\n",
        "        \n",
        "        return credentials, GCP_PROJECT_ID\n",
        "        \n",
        "    except subprocess.CalledProcessError as e:\n",
        "        print(f\"❌ Command failed: {e}\")\n",
        "        print(\"💡 Manual steps required:\")\n",
        "        print(f\"   1. gcloud config set project {GCP_PROJECT_ID}\")\n",
        "        print(\"   2. gcloud auth application-default login\")\n",
        "        print(f\"   3. gcloud auth application-default set-quota-project {GCP_PROJECT_ID}\")\n",
        "        return None, None\n",
        "    except Exception as e:\n",
        "        print(f\"❌ Error: {e}\")\n",
        "        return None, None\n",
        "\n",
        "# Run authentication setup\n",
        "credentials, authenticated_project = setup_gcp_authentication()\n"
      ]
    },
    {
      "cell_type": "code",
      "execution_count": 28,
      "metadata": {},
      "outputs": [
        {
          "name": "stdout",
          "output_type": "stream",
          "text": [
            "Libraries imported successfully!\n"
          ]
        }
      ],
      "source": [
        "# Import required libraries\n",
        "import os\n",
        "import pandas as pd\n",
        "from google.cloud import bigquery\n",
        "from google.cloud import storage\n",
        "import json\n",
        "from datetime import datetime\n",
        "\n",
        "print(\"Libraries imported successfully!\")\n"
      ]
    },
    {
      "cell_type": "code",
      "execution_count": 29,
      "metadata": {},
      "outputs": [
        {
          "name": "stdout",
          "output_type": "stream",
          "text": [
            "🔍 Testing GCP connectivity...\n",
            "✅ Using authenticated project: graph-demo-471710\n",
            "🔗 BigQuery client created for project: graph-demo-471710\n",
            "✅ BigQuery connectivity successful - Test query result: 1\n",
            "✅ BigQuery dataset 'gdelt' accessible\n",
            "📊 Found 0 tables in dataset\n",
            "✅ Cloud Storage connectivity successful - Found 1 buckets\n",
            "🎉 All GCP connectivity tests passed!\n"
          ]
        },
        {
          "data": {
            "text/plain": [
              "True"
            ]
          },
          "execution_count": 29,
          "metadata": {},
          "output_type": "execute_result"
        }
      ],
      "source": [
        "# Test GCP connectivity\n",
        "def test_gcp_connectivity():\n",
        "    \"\"\"Test basic connectivity to GCP services\"\"\"\n",
        "    print(\"🔍 Testing GCP connectivity...\")\n",
        "    \n",
        "    # Check if authentication was successful\n",
        "    if not credentials or not authenticated_project:\n",
        "        print(\"❌ Authentication required - please run the authentication cell first\")\n",
        "        return False\n",
        "    \n",
        "    print(f\"✅ Using authenticated project: {authenticated_project}\")\n",
        "    \n",
        "    # Test 1: Test BigQuery connectivity\n",
        "    try:\n",
        "        # Use explicit credentials and project\n",
        "        client = bigquery.Client(credentials=credentials, project=authenticated_project)\n",
        "        print(f\"🔗 BigQuery client created for project: {client.project}\")\n",
        "        \n",
        "        # Simple query to test connectivity\n",
        "        query = \"SELECT 1 as test_value\"\n",
        "        result = client.query(query).result()\n",
        "        for row in result:\n",
        "            print(f\"✅ BigQuery connectivity successful - Test query result: {row.test_value}\")\n",
        "            break  # Only need first row\n",
        "    except Exception as e:\n",
        "        error_str = str(e)\n",
        "        if \"has been deleted\" in error_str or \"USER_PROJECT_DENIED\" in error_str:\n",
        "            print(f\"❌ BigQuery connectivity failed: Project mismatch detected\")\n",
        "            print(f\"   Error: {e}\")\n",
        "            print(f\"🔧 This usually means your credentials are cached for a different project\")\n",
        "            print(f\"   💡 Try running the authentication cell again\")\n",
        "            print(f\"   📋 Or manually run: gcloud auth application-default login\")\n",
        "            return False\n",
        "        else:\n",
        "            print(f\"❌ BigQuery connectivity failed: {e}\")\n",
        "            return False\n",
        "    \n",
        "    # Test 2: Test BigQuery dataset access\n",
        "    try:\n",
        "        client = bigquery.Client(credentials=credentials, project=authenticated_project)\n",
        "        dataset_ref = client.dataset(BIGQUERY_DATASET)\n",
        "        dataset = client.get_dataset(dataset_ref)\n",
        "        print(f\"✅ BigQuery dataset '{BIGQUERY_DATASET}' accessible\")\n",
        "        \n",
        "        # List tables in the dataset\n",
        "        tables = list(client.list_tables(dataset_ref))\n",
        "        print(f\"📊 Found {len(tables)} tables in dataset\")\n",
        "        for table in tables[:5]:  # Show first 5 tables\n",
        "            print(f\"   - {table.table_id}\")\n",
        "        if len(tables) > 5:\n",
        "            print(f\"   ... and {len(tables) - 5} more tables\")\n",
        "            \n",
        "    except Exception as e:\n",
        "        print(f\"❌ BigQuery dataset access failed: {e}\")\n",
        "        print(f\"   Make sure dataset '{BIGQUERY_DATASET}' exists in project '{authenticated_project}'\")\n",
        "        return False\n",
        "    \n",
        "    # Test 3: Test Cloud Storage connectivity\n",
        "    try:\n",
        "        storage_client = storage.Client(credentials=credentials, project=authenticated_project)\n",
        "        # List buckets to test connectivity\n",
        "        buckets = list(storage_client.list_buckets())\n",
        "        print(f\"✅ Cloud Storage connectivity successful - Found {len(buckets)} buckets\")\n",
        "    except Exception as e:\n",
        "        print(f\"❌ Cloud Storage connectivity failed: {e}\")\n",
        "        return False\n",
        "    \n",
        "    print(\"🎉 All GCP connectivity tests passed!\")\n",
        "    return True\n",
        "\n",
        "# Run the connectivity test\n",
        "test_gcp_connectivity()\n"
      ]
    },
    {
      "cell_type": "code",
      "execution_count": null,
      "metadata": {},
      "outputs": [],
      "source": [
        "# Ready for GDELT analysis!\n",
        "print(\"🎉 Setup complete! Ready to work with GDELT data.\")\n",
        "print(f\"📊 Project: {GCP_PROJECT_ID}\")\n",
        "print(f\"🗄️  Dataset: {BIGQUERY_DATASET}\")\n",
        "print(\"🚀 You can now run queries against your GDELT data!\")\n"
      ]
    },
    {
      "cell_type": "code",
      "execution_count": null,
      "metadata": {},
      "outputs": [],
      "source": []
    }
  ],
  "metadata": {
    "kernelspec": {
      "display_name": "venv",
      "language": "python",
      "name": "python3"
    },
    "language_info": {
      "codemirror_mode": {
        "name": "ipython",
        "version": 3
      },
      "file_extension": ".py",
      "mimetype": "text/x-python",
      "name": "python",
      "nbconvert_exporter": "python",
      "pygments_lexer": "ipython3",
      "version": "3.13.7"
    }
  },
  "nbformat": 4,
  "nbformat_minor": 2
}
